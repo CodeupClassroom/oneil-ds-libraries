{
 "cells": [
  {
   "cell_type": "markdown",
   "id": "e0faec46",
   "metadata": {},
   "source": [
    "### Working with pandas dataframes\n"
   ]
  },
  {
   "cell_type": "markdown",
   "id": "a8a8ee8d",
   "metadata": {},
   "source": [
    "[Official Documentation](https://pandas.pydata.org/docs/)\n",
    "\n",
    "[Course page](https://ds.codeup.com/python/dataframes/)\n"
   ]
  },
  {
   "cell_type": "markdown",
   "id": "d7a779f1",
   "metadata": {},
   "source": [
    "<div class=\"alert alert-block alert-info\">\n",
    "\n",
    "#### Learning Goals\n",
    "    \n",
    "- Understand the structure of a dataframe\n",
    "- View information about the contents of a dataframe\n",
    "- Determine attributes of the data within the dataframe\n",
    "- Manipulate columns\n",
    "- Sort and filter contents of dataframe\n",
    "- Create, modify, and drop columns\n",
    "- View descriptive statistics for data"
   ]
  },
  {
   "cell_type": "code",
   "execution_count": null,
   "id": "c8a26c5a",
   "metadata": {},
   "outputs": [],
   "source": []
  },
  {
   "cell_type": "markdown",
   "id": "2c11413a",
   "metadata": {},
   "source": [
    "### Sources of dataframes\n",
    "\n",
    "- Created from dictionaries, lists, or arrays\n",
    "- Imported from Python libraries (e.g. `pydataset`)\n",
    "- Read from `csv`, `tsv`, `xlsx` files\n",
    "- SQL databases"
   ]
  },
  {
   "cell_type": "markdown",
   "id": "944c2dff",
   "metadata": {},
   "source": [
    "---\n",
    "\n",
    "### Import statements\n",
    "\n"
   ]
  },
  {
   "cell_type": "code",
   "execution_count": null,
   "id": "872ad52a",
   "metadata": {},
   "outputs": [],
   "source": [
    "# Imported libraries\n",
    "import pandas as pd\n",
    "\n",
    "# Numpy to build arrays\n",
    "import numpy as np\n",
    "\n",
    "# Source of datasets\n",
    "from pydataset import data\n",
    "\n",
    "# Set a value to initialize the random integer generation\n",
    "np.random.seed(123)"
   ]
  },
  {
   "cell_type": "markdown",
   "id": "5ddf76ec",
   "metadata": {},
   "source": [
    "---\n",
    "\n",
    "## Creating a dataframe\n",
    "\n",
    "- Combine multiple series of equal length.\n"
   ]
  },
  {
   "cell_type": "code",
   "execution_count": null,
   "id": "44f6c9a5",
   "metadata": {},
   "outputs": [],
   "source": [
    "# Create a list of students\n",
    "students = ['Sally', 'Jane', 'Suzie', 'Billy', 'Ada', 'John', 'Thomas', 'Marie', 'Albert', 'Richard', 'Isaac', 'Alan']\n"
   ]
  },
  {
   "cell_type": "code",
   "execution_count": null,
   "id": "8152b8ea",
   "metadata": {},
   "outputs": [],
   "source": [
    "\n",
    "# Randomly generate 12 scores for each subject (1 per student)\n",
    "# Store values as arrays\n",
    "# Note that all the values need to have the same length here\n",
    "\n",
    "math_grades = np.random.randint(low=60, high=100, size=len(students))\n",
    "\n",
    "english_grades = np.random.randint(low=60, high=100, size=len(students))\n",
    "\n",
    "reading_grades = np.random.randint(low=60, high=100, size=len(students))"
   ]
  },
  {
   "cell_type": "code",
   "execution_count": null,
   "id": "05a9a173",
   "metadata": {},
   "outputs": [],
   "source": [
    "# Create a dictionary with structure:\n",
    "# 'column_name': <array or list>\n",
    "\n",
    "df_dict = {'name': students,\n",
    "                   'math': math_grades,\n",
    "                   'english': english_grades,\n",
    "                   'reading': reading_grades}"
   ]
  },
  {
   "cell_type": "code",
   "execution_count": null,
   "id": "8bddfd89",
   "metadata": {},
   "outputs": [],
   "source": [
    "\n",
    "# Use pd.DataFrame\n",
    "df = pd.DataFrame(df_dict)\n",
    "\n",
    "# View the type\n",
    "type(df)"
   ]
  },
  {
   "cell_type": "markdown",
   "id": "7ba7c85b",
   "metadata": {},
   "source": [
    "### Check data types"
   ]
  },
  {
   "cell_type": "code",
   "execution_count": null,
   "id": "899321c6",
   "metadata": {},
   "outputs": [],
   "source": []
  },
  {
   "cell_type": "code",
   "execution_count": null,
   "id": "56b4b96b",
   "metadata": {},
   "outputs": [],
   "source": []
  },
  {
   "cell_type": "code",
   "execution_count": null,
   "id": "d6cd664d",
   "metadata": {},
   "outputs": [],
   "source": []
  },
  {
   "cell_type": "markdown",
   "id": "f52b6d47",
   "metadata": {},
   "source": [
    "### Display a table for the dataframe"
   ]
  },
  {
   "cell_type": "code",
   "execution_count": null,
   "id": "5e47197a",
   "metadata": {},
   "outputs": [],
   "source": []
  },
  {
   "cell_type": "code",
   "execution_count": null,
   "id": "edc81737",
   "metadata": {},
   "outputs": [],
   "source": []
  },
  {
   "cell_type": "markdown",
   "id": "f41e0f9b",
   "metadata": {},
   "source": [
    "### Dimension of dataframe\n",
    "\n",
    "Format: A tuple with (rows, columns)"
   ]
  },
  {
   "cell_type": "code",
   "execution_count": null,
   "id": "128ee9e3",
   "metadata": {},
   "outputs": [],
   "source": []
  },
  {
   "cell_type": "markdown",
   "id": "ee64f920",
   "metadata": {},
   "source": [
    "### View portions of the dataframe\n",
    "\n",
    "```python\n",
    ".head(n) # first n rows (default = 5 rows)\n",
    ".tail(n) # last n rows (default = 5 rows)\n",
    ".sample(n) # randomly select n rows (default = 1 row)\n",
    "```"
   ]
  },
  {
   "cell_type": "code",
   "execution_count": null,
   "id": "5d91ed07",
   "metadata": {},
   "outputs": [],
   "source": []
  },
  {
   "cell_type": "code",
   "execution_count": null,
   "id": "c8b12288",
   "metadata": {},
   "outputs": [],
   "source": []
  },
  {
   "cell_type": "markdown",
   "id": "c523ef50",
   "metadata": {},
   "source": [
    "### Information about the dataframe's contents"
   ]
  },
  {
   "cell_type": "markdown",
   "id": "0d504e5f",
   "metadata": {},
   "source": [
    "| Name | Description |\n",
    "| ---:|:------ |\n",
    "|`#`  | The row index|\n",
    "|`Column`| Index/name of column (a string) |\n",
    "|`Non-Null Count` | Number of non-empty values \n",
    "|`Dtype` |    The data type |\n"
   ]
  },
  {
   "cell_type": "code",
   "execution_count": null,
   "id": "1e5aa56f",
   "metadata": {},
   "outputs": [],
   "source": []
  },
  {
   "cell_type": "markdown",
   "id": "c3542f61",
   "metadata": {},
   "source": [
    "### Data types"
   ]
  },
  {
   "cell_type": "code",
   "execution_count": null,
   "id": "5bb8b0da",
   "metadata": {},
   "outputs": [],
   "source": []
  },
  {
   "cell_type": "code",
   "execution_count": null,
   "id": "07e23aab",
   "metadata": {},
   "outputs": [],
   "source": []
  },
  {
   "cell_type": "code",
   "execution_count": null,
   "id": "06c5e5b3",
   "metadata": {},
   "outputs": [],
   "source": []
  },
  {
   "cell_type": "markdown",
   "id": "a471373c",
   "metadata": {},
   "source": [
    "### Descriptive Statistics"
   ]
  },
  {
   "cell_type": "code",
   "execution_count": null,
   "id": "88c37649",
   "metadata": {},
   "outputs": [],
   "source": []
  },
  {
   "cell_type": "code",
   "execution_count": null,
   "id": "d23e88f5",
   "metadata": {},
   "outputs": [],
   "source": []
  },
  {
   "cell_type": "code",
   "execution_count": null,
   "id": "58b6f321",
   "metadata": {},
   "outputs": [],
   "source": []
  },
  {
   "cell_type": "code",
   "execution_count": null,
   "id": "937719ef",
   "metadata": {},
   "outputs": [],
   "source": []
  },
  {
   "cell_type": "code",
   "execution_count": null,
   "id": "d5692ef6",
   "metadata": {},
   "outputs": [],
   "source": []
  },
  {
   "cell_type": "markdown",
   "id": "d4ecd3a1",
   "metadata": {},
   "source": [
    "---\n",
    "\n",
    "## Working with Columns\n",
    "\n",
    "- View column information\n",
    "- Rename columns\n",
    "- Drop columns\n"
   ]
  },
  {
   "cell_type": "code",
   "execution_count": null,
   "id": "eed03e16",
   "metadata": {},
   "outputs": [],
   "source": []
  },
  {
   "cell_type": "markdown",
   "id": "672594a9",
   "metadata": {},
   "source": [
    "### View Column Information"
   ]
  },
  {
   "cell_type": "code",
   "execution_count": null,
   "id": "6b3bb675",
   "metadata": {},
   "outputs": [],
   "source": []
  },
  {
   "cell_type": "markdown",
   "id": "1c7d28c6",
   "metadata": {},
   "source": [
    "### Check data types"
   ]
  },
  {
   "cell_type": "code",
   "execution_count": null,
   "id": "2956aed0",
   "metadata": {},
   "outputs": [],
   "source": []
  },
  {
   "cell_type": "markdown",
   "id": "903ab515",
   "metadata": {},
   "source": [
    "<div class=\"alert alert-block alert-info\">\n",
    "    \n",
    "### Important Notes\n",
    "    \n",
    "- Keep in mind what data structure you are working with\n",
    "- Recall that methods do not alter the original data structure\n",
    "- Check documentation for what the parameters and results of a pandas function are\n",
    "\n",
    "\n"
   ]
  },
  {
   "cell_type": "code",
   "execution_count": null,
   "id": "e80979a2",
   "metadata": {},
   "outputs": [],
   "source": []
  },
  {
   "cell_type": "markdown",
   "id": "2c3d4e86",
   "metadata": {},
   "source": [
    "### Dropping columns\n",
    "\n",
    "- Drop all columns except for the student's name and math grade\n",
    "- Assign the results to a new dataframe"
   ]
  },
  {
   "cell_type": "code",
   "execution_count": null,
   "id": "b97b0b51",
   "metadata": {},
   "outputs": [],
   "source": []
  },
  {
   "cell_type": "markdown",
   "id": "5296c230",
   "metadata": {},
   "source": [
    "\n",
    "### Tip\n",
    "\n",
    "- Create a list with the columns you want to drop"
   ]
  },
  {
   "cell_type": "code",
   "execution_count": null,
   "id": "5d9b9b09",
   "metadata": {},
   "outputs": [],
   "source": []
  },
  {
   "cell_type": "code",
   "execution_count": null,
   "id": "3093f3a2",
   "metadata": {},
   "outputs": [],
   "source": []
  },
  {
   "cell_type": "code",
   "execution_count": null,
   "id": "e89b8e2a",
   "metadata": {},
   "outputs": [],
   "source": []
  },
  {
   "cell_type": "markdown",
   "id": "2c98b8b9",
   "metadata": {},
   "source": [
    "### Renaming columns\n",
    "\n",
    "- Rename the columne `name` to `student`\n",
    "- Use a dictionary structure\n",
    "- Assign to a new dataframe\n",
    "\n",
    "```python\n",
    "{'old_name': 'new_name'}\n",
    "```"
   ]
  },
  {
   "cell_type": "code",
   "execution_count": null,
   "id": "dc1ef101",
   "metadata": {},
   "outputs": [],
   "source": []
  },
  {
   "cell_type": "code",
   "execution_count": null,
   "id": "0693a8bc",
   "metadata": {},
   "outputs": [],
   "source": []
  },
  {
   "cell_type": "markdown",
   "id": "8cef2873",
   "metadata": {},
   "source": [
    "### Selecting a column"
   ]
  },
  {
   "cell_type": "code",
   "execution_count": null,
   "id": "7e129082",
   "metadata": {},
   "outputs": [],
   "source": []
  },
  {
   "cell_type": "code",
   "execution_count": null,
   "id": "5e861bd8",
   "metadata": {},
   "outputs": [],
   "source": []
  },
  {
   "cell_type": "code",
   "execution_count": null,
   "id": "43829d1b",
   "metadata": {},
   "outputs": [],
   "source": []
  },
  {
   "cell_type": "code",
   "execution_count": null,
   "id": "dbeff2d5",
   "metadata": {},
   "outputs": [],
   "source": []
  },
  {
   "cell_type": "markdown",
   "id": "dba3a16e",
   "metadata": {},
   "source": [
    "### Creating new columns\n",
    "\n",
    "\n",
    "- Use a comparison operator on a column to return Boolean values \n",
    "- Create a new column with these contents\n",
    "- Use assign to set the column values equal to the Boolean values"
   ]
  },
  {
   "cell_type": "code",
   "execution_count": null,
   "id": "864bd3ae",
   "metadata": {},
   "outputs": [],
   "source": []
  },
  {
   "cell_type": "code",
   "execution_count": null,
   "id": "7c190bdc",
   "metadata": {},
   "outputs": [],
   "source": []
  },
  {
   "cell_type": "code",
   "execution_count": null,
   "id": "17f132f2",
   "metadata": {},
   "outputs": [],
   "source": []
  },
  {
   "cell_type": "markdown",
   "id": "1584a649",
   "metadata": {},
   "source": [
    "---\n",
    "\n",
    "### Sorting dataframes\n",
    "\n",
    "- Use `.sort_values`\n",
    "- set which column to sort by\n",
    "- Set ascending or descending"
   ]
  },
  {
   "cell_type": "code",
   "execution_count": null,
   "id": "c422300b",
   "metadata": {},
   "outputs": [],
   "source": []
  },
  {
   "cell_type": "code",
   "execution_count": null,
   "id": "39745799",
   "metadata": {},
   "outputs": [],
   "source": []
  },
  {
   "cell_type": "markdown",
   "id": "144632b3",
   "metadata": {},
   "source": [
    "### Chaining Operations"
   ]
  },
  {
   "cell_type": "code",
   "execution_count": null,
   "id": "3ba676b2",
   "metadata": {},
   "outputs": [],
   "source": []
  },
  {
   "cell_type": "code",
   "execution_count": null,
   "id": "87e1ae14",
   "metadata": {},
   "outputs": [],
   "source": []
  },
  {
   "cell_type": "markdown",
   "id": "6b396c65",
   "metadata": {},
   "source": [
    "---\n",
    "\n",
    "## Importing datasets"
   ]
  },
  {
   "cell_type": "markdown",
   "id": "a04197ef",
   "metadata": {},
   "source": [
    "```python\n",
    "import pandas as pd\n",
    "from pydataset import data\n",
    "```"
   ]
  },
  {
   "cell_type": "code",
   "execution_count": null,
   "id": "8d68454c",
   "metadata": {},
   "outputs": [],
   "source": []
  },
  {
   "cell_type": "code",
   "execution_count": null,
   "id": "31375d31",
   "metadata": {},
   "outputs": [],
   "source": []
  },
  {
   "cell_type": "code",
   "execution_count": null,
   "id": "19ae56e9",
   "metadata": {},
   "outputs": [],
   "source": []
  },
  {
   "cell_type": "markdown",
   "id": "b32fb7be",
   "metadata": {},
   "source": [
    "### View available datasets"
   ]
  },
  {
   "cell_type": "code",
   "execution_count": null,
   "id": "7911d01a",
   "metadata": {},
   "outputs": [],
   "source": []
  },
  {
   "cell_type": "code",
   "execution_count": null,
   "id": "76a3f378",
   "metadata": {},
   "outputs": [],
   "source": [
    " "
   ]
  },
  {
   "cell_type": "code",
   "execution_count": null,
   "id": "44bacd0c",
   "metadata": {},
   "outputs": [],
   "source": []
  },
  {
   "cell_type": "markdown",
   "id": "1c5af55c",
   "metadata": {},
   "source": [
    "---\n",
    "<div class=\"alert alert-block alert-success\">\n",
    "    \n",
    "### In-class exercise \n",
    "\n",
    "- Randomly select one dataset from `pydataset`\n",
    "- Load the dataset as a dataframe\n",
    "- View information about the dataset"
   ]
  },
  {
   "cell_type": "code",
   "execution_count": null,
   "id": "274c68d9",
   "metadata": {},
   "outputs": [],
   "source": []
  },
  {
   "cell_type": "code",
   "execution_count": null,
   "id": "67b83701",
   "metadata": {},
   "outputs": [],
   "source": []
  },
  {
   "cell_type": "code",
   "execution_count": null,
   "id": "9ee654e2",
   "metadata": {},
   "outputs": [],
   "source": []
  },
  {
   "cell_type": "markdown",
   "id": "72e0a520",
   "metadata": {},
   "source": [
    "\n",
    "---\n",
    "\n",
    "### Logical Operators\n",
    "\n",
    "\n",
    " `&`    and \n",
    " \n",
    " `|`    or\n",
    " \n",
    " `not`  not"
   ]
  },
  {
   "cell_type": "markdown",
   "id": "80ebe367",
   "metadata": {},
   "source": [
    "### Find students who are eligible for:\n",
    "\n",
    "- High-performer award (At leat 80 in Math and English)\n",
    "- Subject award (at least 90 in a subject)\n",
    "- Exemplary award (at least 90 in all subjects)"
   ]
  },
  {
   "cell_type": "code",
   "execution_count": null,
   "id": "ad9dc3d3",
   "metadata": {},
   "outputs": [],
   "source": []
  },
  {
   "cell_type": "code",
   "execution_count": null,
   "id": "32f23618",
   "metadata": {},
   "outputs": [],
   "source": []
  },
  {
   "cell_type": "code",
   "execution_count": null,
   "id": "974e97be",
   "metadata": {},
   "outputs": [],
   "source": []
  }
 ],
 "metadata": {
  "kernelspec": {
   "display_name": "Python 3 (ipykernel)",
   "language": "python",
   "name": "python3"
  },
  "language_info": {
   "codemirror_mode": {
    "name": "ipython",
    "version": 3
   },
   "file_extension": ".py",
   "mimetype": "text/x-python",
   "name": "python",
   "nbconvert_exporter": "python",
   "pygments_lexer": "ipython3",
   "version": "3.9.13"
  }
 },
 "nbformat": 4,
 "nbformat_minor": 5
}
