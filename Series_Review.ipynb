{
 "cells": [
  {
   "cell_type": "markdown",
   "id": "51b66882-e950-4031-8391-cbd9317a585d",
   "metadata": {},
   "source": [
    "Use pandas to create a Series named fruits from the following list:"
   ]
  },
  {
   "cell_type": "code",
   "execution_count": 2,
   "id": "d990e98d-540e-40ec-998c-b02e49325d41",
   "metadata": {},
   "outputs": [],
   "source": [
    "import pandas as pd"
   ]
  },
  {
   "cell_type": "code",
   "execution_count": 3,
   "id": "20f0d030-2b72-427d-b27a-16b358397189",
   "metadata": {},
   "outputs": [],
   "source": [
    "fruits = pd.Series(\n",
    "    [\"kiwi\", \n",
    "     \"mango\",\n",
    "     \"strawberry\",\n",
    "     \"pineapple\",\n",
    "     \"gala apple\",\n",
    "     \"honeycrisp apple\",\n",
    "     \"tomato\",\n",
    "     \"watermelon\",\n",
    "     \"honeydew\",\n",
    "     \"kiwi\",\n",
    "     \"kiwi\",\n",
    "     \"kiwi\",\n",
    "     \"mango\",\n",
    "     \"blueberry\",\n",
    "     \"blackberry\",\n",
    "     \"gooseberry\",\n",
    "     \"papaya\"])"
   ]
  },
  {
   "cell_type": "markdown",
   "id": "be669f4b-0e89-4007-b28a-6b256bf78621",
   "metadata": {},
   "source": [
    "Use Series attributes and methods to explore your fruits Series."
   ]
  },
  {
   "cell_type": "code",
   "execution_count": 4,
   "id": "5ecad14d-a333-43c3-ab87-7d84ce4bbae6",
   "metadata": {},
   "outputs": [
    {
     "name": "stdout",
     "output_type": "stream",
     "text": [
      "<class 'pandas.core.series.Series'>\n"
     ]
    }
   ],
   "source": [
    "print(type(fruits))"
   ]
  },
  {
   "cell_type": "markdown",
   "id": "6a6f360f-cdfb-47b7-84cb-af2abca98a93",
   "metadata": {},
   "source": [
    "Output only the index from fruits."
   ]
  },
  {
   "cell_type": "code",
   "execution_count": 5,
   "id": "16a4bd6f-2fbf-4a56-ab7e-5b7242f6a415",
   "metadata": {},
   "outputs": [
    {
     "data": {
      "text/plain": [
       "RangeIndex(start=0, stop=17, step=1)"
      ]
     },
     "execution_count": 5,
     "metadata": {},
     "output_type": "execute_result"
    }
   ],
   "source": [
    "# index will describe what the index contents look like\n",
    "fruits.index"
   ]
  },
  {
   "cell_type": "markdown",
   "id": "7afd2320-ef8c-4f0f-b4d6-aa476d24d309",
   "metadata": {},
   "source": [
    "Determine the number of elements in fruits."
   ]
  },
  {
   "cell_type": "code",
   "execution_count": 8,
   "id": "8097c12d-8141-45f8-9ca7-625d573a1eb0",
   "metadata": {},
   "outputs": [
    {
     "data": {
      "text/plain": [
       "17"
      ]
     },
     "execution_count": 8,
     "metadata": {},
     "output_type": "execute_result"
    }
   ],
   "source": [
    "# fruits size will give me the number of elements\n",
    "fruits.size"
   ]
  },
  {
   "cell_type": "code",
   "execution_count": 7,
   "id": "a229ed70-8213-48ce-8bf5-903c222151cd",
   "metadata": {},
   "outputs": [
    {
     "data": {
      "text/plain": [
       "(17,)"
      ]
     },
     "execution_count": 7,
     "metadata": {},
     "output_type": "execute_result"
    }
   ],
   "source": [
    "# shape on this will give a tuple with no second value\n",
    "fruits.shape"
   ]
  },
  {
   "cell_type": "markdown",
   "id": "6de52c06-02d3-4155-b0c2-d889df61187e",
   "metadata": {},
   "source": [
    "Output only the values from fruits."
   ]
  },
  {
   "cell_type": "code",
   "execution_count": 9,
   "id": "16de3d5d-5eae-4f2c-8b26-7e19c3040768",
   "metadata": {},
   "outputs": [
    {
     "data": {
      "text/plain": [
       "array(['kiwi', 'mango', 'strawberry', 'pineapple', 'gala apple',\n",
       "       'honeycrisp apple', 'tomato', 'watermelon', 'honeydew', 'kiwi',\n",
       "       'kiwi', 'kiwi', 'mango', 'blueberry', 'blackberry', 'gooseberry',\n",
       "       'papaya'], dtype=object)"
      ]
     },
     "execution_count": 9,
     "metadata": {},
     "output_type": "execute_result"
    }
   ],
   "source": [
    "fruits.values"
   ]
  },
  {
   "cell_type": "markdown",
   "id": "128970cf-55e7-4f08-b49d-7c67c7d90058",
   "metadata": {},
   "source": [
    "Confirm the data type of the values in fruits."
   ]
  },
  {
   "cell_type": "code",
   "execution_count": 10,
   "id": "b3b52c87-6e92-4afb-a3a9-6c2e5b9778dd",
   "metadata": {},
   "outputs": [
    {
     "data": {
      "text/plain": [
       "dtype('O')"
      ]
     },
     "execution_count": 10,
     "metadata": {},
     "output_type": "execute_result"
    }
   ],
   "source": [
    "\n",
    "fruits.dtype"
   ]
  },
  {
   "cell_type": "markdown",
   "id": "1f5f77a1-d918-4512-9251-fe1b6c67fa4c",
   "metadata": {},
   "source": [
    "Output only the first five values from fruits. Output the last three values. Output two random values from fruits."
   ]
  },
  {
   "cell_type": "code",
   "execution_count": 11,
   "id": "3a43eabd-175b-4f70-b878-c4bacabe408a",
   "metadata": {},
   "outputs": [
    {
     "data": {
      "text/plain": [
       "0          kiwi\n",
       "1         mango\n",
       "2    strawberry\n",
       "3     pineapple\n",
       "4    gala apple\n",
       "dtype: object"
      ]
     },
     "execution_count": 11,
     "metadata": {},
     "output_type": "execute_result"
    }
   ],
   "source": [
    "# first five:\n",
    "fruits.head()"
   ]
  },
  {
   "cell_type": "code",
   "execution_count": 12,
   "id": "d0d21f0d-316b-4ede-b8d0-6b65f9169d69",
   "metadata": {},
   "outputs": [
    {
     "data": {
      "text/plain": [
       "0          kiwi\n",
       "1         mango\n",
       "2    strawberry\n",
       "3     pineapple\n",
       "4    gala apple\n",
       "dtype: object"
      ]
     },
     "execution_count": 12,
     "metadata": {},
     "output_type": "execute_result"
    }
   ],
   "source": [
    "# first five elements as if we were using list indexing\n",
    "fruits[:5]"
   ]
  },
  {
   "cell_type": "code",
   "execution_count": 15,
   "id": "2c51e918-327a-49a1-a543-08b58ce79f66",
   "metadata": {},
   "outputs": [
    {
     "data": {
      "text/plain": [
       "14    blackberry\n",
       "15    gooseberry\n",
       "16        papaya\n",
       "dtype: object"
      ]
     },
     "execution_count": 15,
     "metadata": {},
     "output_type": "execute_result"
    }
   ],
   "source": [
    "# last three values:\n",
    "# tail by default gives me the last 5 values\n",
    "# feeding in a 3 as an argument offers the option of giving me a \n",
    "# modified number\n",
    "fruits.tail(3)"
   ]
  },
  {
   "cell_type": "code",
   "execution_count": 21,
   "id": "dc88156c-7124-4bd3-8687-47c233b82619",
   "metadata": {},
   "outputs": [
    {
     "data": {
      "text/plain": [
       "14    blackberry\n",
       "12         mango\n",
       "dtype: object"
      ]
     },
     "execution_count": 21,
     "metadata": {},
     "output_type": "execute_result"
    }
   ],
   "source": [
    "# two random elements:\n",
    "fruits.sample(2)"
   ]
  },
  {
   "cell_type": "markdown",
   "id": "ff0575a8-5a1e-4ae3-bab4-32f0bd98979b",
   "metadata": {},
   "source": [
    "Run the .describe() on fruits to see what information it returns when called on a Series with string values."
   ]
  },
  {
   "cell_type": "code",
   "execution_count": 24,
   "id": "2b2ebf32-6780-4898-a5c8-85e40c557c82",
   "metadata": {},
   "outputs": [
    {
     "data": {
      "text/plain": [
       "count       17\n",
       "unique      13\n",
       "top       kiwi\n",
       "freq         4\n",
       "dtype: object"
      ]
     },
     "execution_count": 24,
     "metadata": {},
     "output_type": "execute_result"
    }
   ],
   "source": [
    "fruits.describe()"
   ]
  },
  {
   "cell_type": "markdown",
   "id": "f6689d62-2cdc-4089-b1e5-8b0175d3de82",
   "metadata": {},
   "source": [
    "Run the code necessary to produce only the unique string values from fruits."
   ]
  },
  {
   "cell_type": "code",
   "execution_count": 29,
   "id": "6b6008ab-425d-47ab-9be7-e97c62ef49b4",
   "metadata": {},
   "outputs": [
    {
     "data": {
      "text/plain": [
       "13"
      ]
     },
     "execution_count": 29,
     "metadata": {},
     "output_type": "execute_result"
    }
   ],
   "source": [
    "len(fruits.value_counts().index)"
   ]
  },
  {
   "cell_type": "code",
   "execution_count": 28,
   "id": "e440c7d7-bda2-4e40-82c6-d5ee7ed2fd11",
   "metadata": {},
   "outputs": [
    {
     "data": {
      "text/plain": [
       "13"
      ]
     },
     "execution_count": 28,
     "metadata": {},
     "output_type": "execute_result"
    }
   ],
   "source": [
    "fruits.nunique()"
   ]
  },
  {
   "cell_type": "markdown",
   "id": "ccfa8d99-c0ec-462c-af18-e6c700a5e25e",
   "metadata": {},
   "source": [
    "Determine how many times each unique string value occurs in fruits."
   ]
  },
  {
   "cell_type": "code",
   "execution_count": 30,
   "id": "cb3c2de1-a3ce-4fac-a2b5-5c97493992a6",
   "metadata": {},
   "outputs": [
    {
     "data": {
      "text/plain": [
       "kiwi                4\n",
       "mango               2\n",
       "honeycrisp apple    1\n",
       "strawberry          1\n",
       "tomato              1\n",
       "pineapple           1\n",
       "watermelon          1\n",
       "honeydew            1\n",
       "blackberry          1\n",
       "blueberry           1\n",
       "gala apple          1\n",
       "papaya              1\n",
       "gooseberry          1\n",
       "dtype: int64"
      ]
     },
     "execution_count": 30,
     "metadata": {},
     "output_type": "execute_result"
    }
   ],
   "source": [
    "fruits.value_counts()"
   ]
  },
  {
   "cell_type": "markdown",
   "id": "8d4e7124-ef5a-449c-9c5d-bef5758f0372",
   "metadata": {},
   "source": [
    "Determine the string value that occurs most frequently in fruits."
   ]
  },
  {
   "cell_type": "code",
   "execution_count": 31,
   "id": "906be0c7-59ce-46c3-a530-2efe571b153e",
   "metadata": {},
   "outputs": [],
   "source": [
    "fruit_freq = fruits.value_counts()"
   ]
  },
  {
   "cell_type": "code",
   "execution_count": 32,
   "id": "8db96da3-51ae-4cfa-a20e-ba179d11acc4",
   "metadata": {},
   "outputs": [
    {
     "data": {
      "text/plain": [
       "kiwi    4\n",
       "dtype: int64"
      ]
     },
     "execution_count": 32,
     "metadata": {},
     "output_type": "execute_result"
    }
   ],
   "source": [
    "fruit_freq.head(1)"
   ]
  },
  {
   "cell_type": "code",
   "execution_count": 36,
   "id": "a265e1bd-10b1-4f73-99d8-f8621ff76fa3",
   "metadata": {},
   "outputs": [
    {
     "data": {
      "text/plain": [
       "'kiwi'"
      ]
     },
     "execution_count": 36,
     "metadata": {},
     "output_type": "execute_result"
    }
   ],
   "source": [
    "fruits.describe()['top']"
   ]
  },
  {
   "cell_type": "markdown",
   "id": "7a6a0c94-2fc2-400b-b11c-900eba0ee360",
   "metadata": {},
   "source": [
    "Determine the string value that occurs least frequently in fruits."
   ]
  },
  {
   "cell_type": "code",
   "execution_count": 41,
   "id": "37b08e4c-a853-4a4a-a976-6e297f3677bd",
   "metadata": {},
   "outputs": [
    {
     "data": {
      "text/plain": [
       "honeycrisp apple    1\n",
       "strawberry          1\n",
       "tomato              1\n",
       "pineapple           1\n",
       "watermelon          1\n",
       "honeydew            1\n",
       "blackberry          1\n",
       "blueberry           1\n",
       "gala apple          1\n",
       "papaya              1\n",
       "gooseberry          1\n",
       "dtype: int64"
      ]
     },
     "execution_count": 41,
     "metadata": {},
     "output_type": "execute_result"
    }
   ],
   "source": [
    "# in english:\n",
    "# fruits ==> give me the value counts\n",
    "# that outputs a series\n",
    "# within the scope of the series that is output by value_counts:\n",
    "# [ ==> WHERE\n",
    "# that specific value count is equivalent to one\n",
    "fruits.value_counts()[fruits.value_counts() == 1]"
   ]
  },
  {
   "cell_type": "code",
   "execution_count": 51,
   "id": "cfb65d34-7e7f-4109-aeb7-58840b0df021",
   "metadata": {},
   "outputs": [
    {
     "data": {
      "text/plain": [
       "kiwi     4\n",
       "mango    2\n",
       "dtype: int64"
      ]
     },
     "execution_count": 51,
     "metadata": {},
     "output_type": "execute_result"
    }
   ],
   "source": [
    "fruits.value_counts().nlargest(2, keep='all')"
   ]
  },
  {
   "cell_type": "code",
   "execution_count": 47,
   "id": "1234e2d6-7d13-4b8a-9630-11089d806b7f",
   "metadata": {},
   "outputs": [
    {
     "data": {
      "text/plain": [
       "honeycrisp apple    1\n",
       "strawberry          1\n",
       "tomato              1\n",
       "pineapple           1\n",
       "watermelon          1\n",
       "honeydew            1\n",
       "blackberry          1\n",
       "blueberry           1\n",
       "gala apple          1\n",
       "papaya              1\n",
       "gooseberry          1\n",
       "dtype: int64"
      ]
     },
     "execution_count": 47,
     "metadata": {},
     "output_type": "execute_result"
    }
   ],
   "source": [
    "fruits.value_counts().nsmallest(2, keep='all')"
   ]
  },
  {
   "cell_type": "markdown",
   "id": "e48abd50-45e5-4bea-8d33-97900cd4bf55",
   "metadata": {},
   "source": [
    "    Capitalize all the string values in fruits."
   ]
  },
  {
   "cell_type": "code",
   "execution_count": 53,
   "id": "b01b7fee-ced2-4e9c-9c4a-5438a424caee",
   "metadata": {},
   "outputs": [],
   "source": [
    "# fruits"
   ]
  },
  {
   "cell_type": "code",
   "execution_count": 54,
   "id": "2cad5415-0fc7-4108-a120-e9990edf0d1a",
   "metadata": {},
   "outputs": [
    {
     "data": {
      "text/plain": [
       "0                 Kiwi\n",
       "1                Mango\n",
       "2           Strawberry\n",
       "3            Pineapple\n",
       "4           Gala apple\n",
       "5     Honeycrisp apple\n",
       "6               Tomato\n",
       "7           Watermelon\n",
       "8             Honeydew\n",
       "9                 Kiwi\n",
       "10                Kiwi\n",
       "11                Kiwi\n",
       "12               Mango\n",
       "13           Blueberry\n",
       "14          Blackberry\n",
       "15          Gooseberry\n",
       "16              Papaya\n",
       "dtype: object"
      ]
     },
     "execution_count": 54,
     "metadata": {},
     "output_type": "execute_result"
    }
   ],
   "source": [
    "# capitalize fruits:\n",
    "# remember key to using the string methods is to include that .str \n",
    "fruits.str.capitalize()"
   ]
  },
  {
   "cell_type": "markdown",
   "id": "ed51526b-3ae4-4adf-8e30-3ae01a8f43b0",
   "metadata": {},
   "source": [
    "    Count the letter \"a\" in all the string values (use string vectorization)."
   ]
  },
  {
   "cell_type": "code",
   "execution_count": 58,
   "id": "fb102867-509f-42d8-821e-d75d7edecff4",
   "metadata": {},
   "outputs": [
    {
     "data": {
      "text/plain": [
       "1"
      ]
     },
     "execution_count": 58,
     "metadata": {},
     "output_type": "execute_result"
    }
   ],
   "source": [
    "# with a single string literal\n",
    "'Apple'.lower().count('a')"
   ]
  },
  {
   "cell_type": "code",
   "execution_count": 59,
   "id": "55338e80-2435-445a-b782-7484ecca14af",
   "metadata": {},
   "outputs": [
    {
     "data": {
      "text/plain": [
       "0     0\n",
       "1     1\n",
       "2     1\n",
       "3     1\n",
       "4     3\n",
       "5     1\n",
       "6     1\n",
       "7     1\n",
       "8     0\n",
       "9     0\n",
       "10    0\n",
       "11    0\n",
       "12    1\n",
       "13    0\n",
       "14    1\n",
       "15    0\n",
       "16    3\n",
       "dtype: int64"
      ]
     },
     "execution_count": 59,
     "metadata": {},
     "output_type": "execute_result"
    }
   ],
   "source": [
    "fruits.str.count('a')"
   ]
  },
  {
   "cell_type": "markdown",
   "id": "c34dfbc3-adc2-4e7f-a706-4ae0aae48a12",
   "metadata": {},
   "source": [
    "    Output the number of vowels in each and every string value."
   ]
  },
  {
   "cell_type": "code",
   "execution_count": 60,
   "id": "92b045c2-783c-4c90-b7a3-1d4f6ff9433c",
   "metadata": {},
   "outputs": [],
   "source": [
    "# If I want to count every vowel:\n",
    "# familiar way to do this:\n",
    "# make a function, apply it to our series using .apply\n",
    "def count_vowels(some_string):\n",
    "    '''\n",
    "    count vowels will take in a single argument and create a count of all\n",
    "    vowels in this string on a character by character basis, returning an int\n",
    "    '''\n",
    "    counter = 0\n",
    "    for letter in some_string:\n",
    "        if letter in 'aeiou':\n",
    "            counter += 1\n",
    "    return counter"
   ]
  },
  {
   "cell_type": "code",
   "execution_count": 61,
   "id": "8a1adefd-2298-4e3f-a974-d81061079bbb",
   "metadata": {},
   "outputs": [
    {
     "data": {
      "text/plain": [
       "5"
      ]
     },
     "execution_count": 61,
     "metadata": {},
     "output_type": "execute_result"
    }
   ],
   "source": [
    "count_vowels('Hullabaloo')"
   ]
  },
  {
   "cell_type": "code",
   "execution_count": 65,
   "id": "b9c84c2e-af0d-4a69-b429-df48ee50918f",
   "metadata": {},
   "outputs": [
    {
     "data": {
      "text/plain": [
       "49"
      ]
     },
     "execution_count": 65,
     "metadata": {},
     "output_type": "execute_result"
    }
   ],
   "source": [
    "fruits.apply(count_vowels)"
   ]
  },
  {
   "cell_type": "code",
   "execution_count": 65,
   "id": "003a4265-210d-4924-ac49-386f1cd54c88",
   "metadata": {},
   "outputs": [
    {
     "data": {
      "text/plain": [
       "49"
      ]
     },
     "execution_count": 65,
     "metadata": {},
     "output_type": "execute_result"
    }
   ],
   "source": [
    "sum(fruits.apply(count_vowels))"
   ]
  },
  {
   "cell_type": "code",
   "execution_count": 64,
   "id": "3bc49365-94a0-48a4-b5ad-6f6e6137a05f",
   "metadata": {},
   "outputs": [
    {
     "data": {
      "text/plain": [
       "0     2\n",
       "1     2\n",
       "2     2\n",
       "3     4\n",
       "4     4\n",
       "5     5\n",
       "6     3\n",
       "7     4\n",
       "8     3\n",
       "9     2\n",
       "10    2\n",
       "11    2\n",
       "12    2\n",
       "13    3\n",
       "14    2\n",
       "15    4\n",
       "16    3\n",
       "dtype: int64"
      ]
     },
     "execution_count": 64,
     "metadata": {},
     "output_type": "execute_result"
    }
   ],
   "source": [
    "# fancy novel regex way to solve this\n",
    "fruits.str.count('[aeiou]')"
   ]
  },
  {
   "cell_type": "markdown",
   "id": "2789a25e-e44f-4efc-9b3b-9b4d34cb5e87",
   "metadata": {},
   "source": [
    "    Write the code to get the longest string value from fruits."
   ]
  },
  {
   "cell_type": "code",
   "execution_count": 68,
   "id": "62dcf792-1656-405a-8219-9a4afe341570",
   "metadata": {},
   "outputs": [
    {
     "data": {
      "text/plain": [
       "5    honeycrisp apple\n",
       "dtype: object"
      ]
     },
     "execution_count": 68,
     "metadata": {},
     "output_type": "execute_result"
    }
   ],
   "source": [
    "# fruits, where the length of the value in the row is equivalent to the max value\n",
    "fruits[fruits.apply(len) == fruits.apply(len).max()]"
   ]
  },
  {
   "cell_type": "code",
   "execution_count": 73,
   "id": "2d161b22-2402-4737-a45d-42acb650a6bc",
   "metadata": {},
   "outputs": [
    {
     "data": {
      "text/plain": [
       "kiwi                 4\n",
       "mango                5\n",
       "strawberry          10\n",
       "pineapple            9\n",
       "gala apple          10\n",
       "honeycrisp apple    16\n",
       "tomato               6\n",
       "watermelon          10\n",
       "honeydew             8\n",
       "kiwi                 4\n",
       "kiwi                 4\n",
       "kiwi                 4\n",
       "mango                5\n",
       "blueberry            9\n",
       "blackberry          10\n",
       "gooseberry          10\n",
       "papaya               6\n",
       "dtype: int64"
      ]
     },
     "execution_count": 73,
     "metadata": {},
     "output_type": "execute_result"
    }
   ],
   "source": [
    "pd.Series(fruits.apply(len).values,  index = fruits.values)"
   ]
  },
  {
   "cell_type": "code",
   "execution_count": 71,
   "id": "31cbfbfa-8622-471d-b208-5a189618e775",
   "metadata": {},
   "outputs": [
    {
     "data": {
      "text/plain": [
       "array([ 4,  5, 10,  9, 10, 16,  6, 10,  8,  4,  4,  4,  5,  9, 10, 10,  6])"
      ]
     },
     "execution_count": 71,
     "metadata": {},
     "output_type": "execute_result"
    }
   ],
   "source": [
    "fruits.apply(len).values"
   ]
  },
  {
   "cell_type": "markdown",
   "id": "e2eeefb7-2827-48db-89e3-0d7ca836c324",
   "metadata": {},
   "source": [
    "    Write the code to get the string values with 5 or more letters in the name."
   ]
  },
  {
   "cell_type": "code",
   "execution_count": 80,
   "id": "f2452c2a-ccb5-4ef0-b072-36998c483dae",
   "metadata": {},
   "outputs": [
    {
     "data": {
      "text/plain": [
       "(4, 5)"
      ]
     },
     "execution_count": 80,
     "metadata": {},
     "output_type": "execute_result"
    }
   ],
   "source": [
    "len([1,2,3,4]), len('hello')"
   ]
  },
  {
   "cell_type": "code",
   "execution_count": 77,
   "id": "252323a9-d246-40af-9273-4038df8cbb46",
   "metadata": {},
   "outputs": [],
   "source": [
    "mask = fruits.apply(len) >= 5"
   ]
  },
  {
   "cell_type": "code",
   "execution_count": 79,
   "id": "b095aea7-13e5-4bdf-9a85-d93e8f07de52",
   "metadata": {},
   "outputs": [
    {
     "data": {
      "text/plain": [
       "0      4\n",
       "1      5\n",
       "2     10\n",
       "3      9\n",
       "4     10\n",
       "5     16\n",
       "6      6\n",
       "7     10\n",
       "8      8\n",
       "9      4\n",
       "10     4\n",
       "11     4\n",
       "12     5\n",
       "13     9\n",
       "14    10\n",
       "15    10\n",
       "16     6\n",
       "dtype: int64"
      ]
     },
     "execution_count": 79,
     "metadata": {},
     "output_type": "execute_result"
    }
   ],
   "source": [
    "fruits.str.len()"
   ]
  },
  {
   "cell_type": "code",
   "execution_count": 78,
   "id": "9a6cb27c-8e6d-426e-baaa-f8f114ea78f1",
   "metadata": {},
   "outputs": [
    {
     "data": {
      "text/plain": [
       "1                mango\n",
       "2           strawberry\n",
       "3            pineapple\n",
       "4           gala apple\n",
       "5     honeycrisp apple\n",
       "6               tomato\n",
       "7           watermelon\n",
       "8             honeydew\n",
       "12               mango\n",
       "13           blueberry\n",
       "14          blackberry\n",
       "15          gooseberry\n",
       "16              papaya\n",
       "dtype: object"
      ]
     },
     "execution_count": 78,
     "metadata": {},
     "output_type": "execute_result"
    }
   ],
   "source": [
    "fruits[mask]"
   ]
  },
  {
   "cell_type": "markdown",
   "id": "6160f784-33e5-4061-af62-e431df6af2fb",
   "metadata": {},
   "source": [
    "    Find the fruit(s) containing the letter \"o\" two or more times."
   ]
  },
  {
   "cell_type": "code",
   "execution_count": 83,
   "id": "274bb2c0-582a-4542-953d-06cd5914d3ca",
   "metadata": {},
   "outputs": [],
   "source": [
    "o_mask = fruits.str.lower().str.count('o') >= 2"
   ]
  },
  {
   "cell_type": "code",
   "execution_count": 84,
   "id": "e7009a2c-eced-4e42-913b-1e7922a9f3a6",
   "metadata": {},
   "outputs": [
    {
     "data": {
      "text/plain": [
       "6         tomato\n",
       "15    gooseberry\n",
       "dtype: object"
      ]
     },
     "execution_count": 84,
     "metadata": {},
     "output_type": "execute_result"
    }
   ],
   "source": [
    "# fruits, where fruits meets the boolean values inside o_mask:\n",
    "fruits[o_mask]"
   ]
  },
  {
   "cell_type": "markdown",
   "id": "09e478e4-f5d4-4e21-b175-a510182132ab",
   "metadata": {},
   "source": [
    "    Write the code to get only the string values containing the substring \"berry\"."
   ]
  },
  {
   "cell_type": "code",
   "execution_count": 86,
   "id": "2e4a65d1-f02b-43cc-86dd-3b104b359d98",
   "metadata": {},
   "outputs": [
    {
     "data": {
      "text/plain": [
       "True"
      ]
     },
     "execution_count": 86,
     "metadata": {},
     "output_type": "execute_result"
    }
   ],
   "source": [
    "'berry' in 'blueberry'"
   ]
  },
  {
   "cell_type": "code",
   "execution_count": 92,
   "id": "86f651ab-b3a0-4a21-b7ff-8d607d06c382",
   "metadata": {},
   "outputs": [
    {
     "data": {
      "text/plain": [
       "0     False\n",
       "1     False\n",
       "2      True\n",
       "3     False\n",
       "4     False\n",
       "5     False\n",
       "6     False\n",
       "7     False\n",
       "8     False\n",
       "9     False\n",
       "10    False\n",
       "11    False\n",
       "12    False\n",
       "13     True\n",
       "14     True\n",
       "15     True\n",
       "16    False\n",
       "dtype: bool"
      ]
     },
     "execution_count": 92,
     "metadata": {},
     "output_type": "execute_result"
    }
   ],
   "source": [
    "# invalid for a vanilla python string:\n",
    "# 'blueberry'.contains('berry')\n",
    "fruits.str.contains('berry')"
   ]
  },
  {
   "cell_type": "code",
   "execution_count": 93,
   "id": "8f6b1866-009c-42f0-92c1-1c64680b503c",
   "metadata": {},
   "outputs": [
    {
     "data": {
      "text/plain": [
       "2     strawberry\n",
       "13     blueberry\n",
       "14    blackberry\n",
       "15    gooseberry\n",
       "dtype: object"
      ]
     },
     "execution_count": 93,
     "metadata": {},
     "output_type": "execute_result"
    }
   ],
   "source": [
    "fruits[fruits.apply(lambda x: 'berry' in x)]"
   ]
  },
  {
   "cell_type": "markdown",
   "id": "ba3c80ce-aa97-4dd2-8bf8-8a38d362fd4e",
   "metadata": {},
   "source": [
    "Write the code to get only the string values containing the substring \"apple\"."
   ]
  },
  {
   "cell_type": "code",
   "execution_count": 99,
   "id": "c32b5b26-2eb4-4e45-b72b-5a976b2a24e7",
   "metadata": {},
   "outputs": [],
   "source": [
    "# documentation on this one:\n",
    "# pd.Series.isin?"
   ]
  },
  {
   "cell_type": "code",
   "execution_count": 100,
   "id": "19082b08-ff4a-42e6-a8c5-6506ba8ca9cd",
   "metadata": {},
   "outputs": [],
   "source": [
    "# this checks to see if the value in the row is in the list that says 'berry' in it,\n",
    "# so not quite what we want here\n",
    "# fruits.isin(['berry'])"
   ]
  },
  {
   "cell_type": "code",
   "execution_count": 95,
   "id": "fa602c95-576f-4c42-91b5-494fb33ae9d6",
   "metadata": {},
   "outputs": [
    {
     "data": {
      "text/plain": [
       "\u001b[0;31mSignature:\u001b[0m \u001b[0mpd\u001b[0m\u001b[0;34m.\u001b[0m\u001b[0mSeries\u001b[0m\u001b[0;34m.\u001b[0m\u001b[0misin\u001b[0m\u001b[0;34m(\u001b[0m\u001b[0mself\u001b[0m\u001b[0;34m,\u001b[0m \u001b[0mvalues\u001b[0m\u001b[0;34m)\u001b[0m \u001b[0;34m->\u001b[0m \u001b[0;34m'Series'\u001b[0m\u001b[0;34m\u001b[0m\u001b[0;34m\u001b[0m\u001b[0m\n",
       "\u001b[0;31mDocstring:\u001b[0m\n",
       "Whether elements in Series are contained in `values`.\n",
       "\n",
       "Return a boolean Series showing whether each element in the Series\n",
       "matches an element in the passed sequence of `values` exactly.\n",
       "\n",
       "Parameters\n",
       "----------\n",
       "values : set or list-like\n",
       "    The sequence of values to test. Passing in a single string will\n",
       "    raise a ``TypeError``. Instead, turn a single string into a\n",
       "    list of one element.\n",
       "\n",
       "Returns\n",
       "-------\n",
       "Series\n",
       "    Series of booleans indicating if each element is in values.\n",
       "\n",
       "Raises\n",
       "------\n",
       "TypeError\n",
       "  * If `values` is a string\n",
       "\n",
       "See Also\n",
       "--------\n",
       "DataFrame.isin : Equivalent method on DataFrame.\n",
       "\n",
       "Examples\n",
       "--------\n",
       ">>> s = pd.Series(['lama', 'cow', 'lama', 'beetle', 'lama',\n",
       "...                'hippo'], name='animal')\n",
       ">>> s.isin(['cow', 'lama'])\n",
       "0     True\n",
       "1     True\n",
       "2     True\n",
       "3    False\n",
       "4     True\n",
       "5    False\n",
       "Name: animal, dtype: bool\n",
       "\n",
       "Passing a single string as ``s.isin('lama')`` will raise an error. Use\n",
       "a list of one element instead:\n",
       "\n",
       ">>> s.isin(['lama'])\n",
       "0     True\n",
       "1    False\n",
       "2     True\n",
       "3    False\n",
       "4     True\n",
       "5    False\n",
       "Name: animal, dtype: bool\n",
       "\n",
       "Strings and integers are distinct and are therefore not comparable:\n",
       "\n",
       ">>> pd.Series([1]).isin(['1'])\n",
       "0    False\n",
       "dtype: bool\n",
       ">>> pd.Series([1.1]).isin(['1.1'])\n",
       "0    False\n",
       "dtype: bool\n",
       "\u001b[0;31mFile:\u001b[0m      /opt/homebrew/anaconda3/envs/homebase/lib/python3.9/site-packages/pandas/core/series.py\n",
       "\u001b[0;31mType:\u001b[0m      function\n"
      ]
     },
     "metadata": {},
     "output_type": "display_data"
    }
   ],
   "source": [
    "pd.Series.isin?"
   ]
  },
  {
   "cell_type": "markdown",
   "id": "26b7eb8d-26a5-4ea2-a942-6c17549243d5",
   "metadata": {},
   "source": [
    "Which string value contains the most vowels?"
   ]
  },
  {
   "cell_type": "code",
   "execution_count": 106,
   "id": "a4e9da6e-9c23-484f-81ef-44faad6f4af7",
   "metadata": {},
   "outputs": [
    {
     "data": {
      "text/plain": [
       "5    honeycrisp apple\n",
       "dtype: object"
      ]
     },
     "execution_count": 106,
     "metadata": {},
     "output_type": "execute_result"
    }
   ],
   "source": [
    "fruits[fruits.apply(count_vowels) == fruits.apply(count_vowels).max()]"
   ]
  },
  {
   "cell_type": "code",
   "execution_count": 107,
   "id": "45f324e8-c84f-4f9e-9419-3207149be18d",
   "metadata": {},
   "outputs": [
    {
     "data": {
      "text/plain": [
       "5    honeycrisp apple\n",
       "dtype: object"
      ]
     },
     "execution_count": 107,
     "metadata": {},
     "output_type": "execute_result"
    }
   ],
   "source": [
    "fruits[fruits.str.count('[aeiou]') == fruits.str.count('[aeiou]').max()]"
   ]
  },
  {
   "cell_type": "markdown",
   "id": "57cdf68b-8019-4c8e-a462-4abc6f1968fc",
   "metadata": {},
   "source": [
    ". Exercises Part III\n",
    "\n",
    "Use pandas to create a Series named letters from the following string. The easiest way to make this string into a Pandas series is to use list to convert each individual letter into a single string on a basic Python list."
   ]
  },
  {
   "cell_type": "code",
   "execution_count": 110,
   "id": "9fa251fe-2f89-48c2-aad6-863fe2797bfa",
   "metadata": {},
   "outputs": [],
   "source": [
    "# break up the string into a list of characters before casting it as a Series\n",
    "letters = pd.Series(\n",
    "    list(\n",
    "        'hnvidduckkqxwymbimkccexbkmqygkxoyndmcxnwqarhyffsjpsrabtjzsypmzadfavyrnndndvswreauxovncxtwzpwejilzjrmmbbgbyxvjtewqthafnbkqplarokkyydtubbmnexoypulzwfhqvckdpqtpoppzqrmcvhhpwgjwupgzhiofohawytlsiyecuproguy'))"
   ]
  },
  {
   "cell_type": "markdown",
   "id": "9c55fb97-4e20-4a91-aee8-dce87b1e028a",
   "metadata": {},
   "source": [
    "    Which letter occurs the most frequently in the letters Series?"
   ]
  },
  {
   "cell_type": "code",
   "execution_count": 117,
   "id": "fd413785-59fc-4212-b182-880df470a7df",
   "metadata": {},
   "outputs": [
    {
     "data": {
      "text/plain": [
       "'y'"
      ]
     },
     "execution_count": 117,
     "metadata": {},
     "output_type": "execute_result"
    }
   ],
   "source": [
    "letters.describe()['top']"
   ]
  },
  {
   "cell_type": "code",
   "execution_count": 112,
   "id": "f95518ab-3181-4c26-9715-34d2deca4b9c",
   "metadata": {},
   "outputs": [
    {
     "data": {
      "text/plain": [
       "y    13\n",
       "p    12\n",
       "w    10\n",
       "n     9\n",
       "m     9\n",
       "k     9\n",
       "b     9\n",
       "r     8\n",
       "h     8\n",
       "x     8\n",
       "a     8\n",
       "c     8\n",
       "d     8\n",
       "o     8\n",
       "q     8\n",
       "z     7\n",
       "u     7\n",
       "t     7\n",
       "v     7\n",
       "j     6\n",
       "e     6\n",
       "f     6\n",
       "g     5\n",
       "s     5\n",
       "i     5\n",
       "l     4\n",
       "dtype: int64"
      ]
     },
     "execution_count": 112,
     "metadata": {},
     "output_type": "execute_result"
    }
   ],
   "source": [
    "letters.value_counts()"
   ]
  },
  {
   "cell_type": "markdown",
   "id": "d6c974f3-6f19-4217-bf21-281cbac04cd8",
   "metadata": {},
   "source": [
    "    Which letter occurs the Least frequently?"
   ]
  },
  {
   "cell_type": "code",
   "execution_count": 119,
   "id": "86cf033f-aa40-4865-ab16-c81017cfb73f",
   "metadata": {},
   "outputs": [
    {
     "data": {
      "text/plain": [
       "l    4\n",
       "dtype: int64"
      ]
     },
     "execution_count": 119,
     "metadata": {},
     "output_type": "execute_result"
    }
   ],
   "source": [
    "letters.value_counts().nsmallest(1, keep='all')"
   ]
  },
  {
   "cell_type": "markdown",
   "id": "e8347874-9b9d-466d-89ab-e22f40529a44",
   "metadata": {},
   "source": [
    "    How many vowels are in the Series?"
   ]
  },
  {
   "cell_type": "code",
   "execution_count": 125,
   "id": "2abd49ae-aafa-4fe2-a7cd-9b7582332340",
   "metadata": {},
   "outputs": [
    {
     "data": {
      "text/plain": [
       "34"
      ]
     },
     "execution_count": 125,
     "metadata": {},
     "output_type": "execute_result"
    }
   ],
   "source": [
    "# letters, where the value in the row is in the list aeiou:\n",
    "letters[letters.isin(['a','e','i','o','u'])].size"
   ]
  },
  {
   "cell_type": "markdown",
   "id": "c88c97da-c631-40d0-a665-aa90c7f46bf5",
   "metadata": {},
   "source": [
    "    How many consonants are in the Series?"
   ]
  },
  {
   "cell_type": "code",
   "execution_count": 130,
   "id": "bd097a5a-e136-42ec-99ef-695e4e006f19",
   "metadata": {},
   "outputs": [
    {
     "data": {
      "text/plain": [
       "0      True\n",
       "1      True\n",
       "2      True\n",
       "3      True\n",
       "4      True\n",
       "       ... \n",
       "195    True\n",
       "196    True\n",
       "197    True\n",
       "198    True\n",
       "199    True\n",
       "Length: 200, dtype: bool"
      ]
     },
     "execution_count": 130,
     "metadata": {},
     "output_type": "execute_result"
    }
   ],
   "source": [
    "# binary not operator: ~\n",
    "# see also: & (and), | (or)\n",
    "~(letters == 'a')"
   ]
  },
  {
   "cell_type": "code",
   "execution_count": 133,
   "id": "ee2c8ce5-ea36-43ba-b423-6a047b6a5c53",
   "metadata": {},
   "outputs": [
    {
     "data": {
      "text/plain": [
       "166"
      ]
     },
     "execution_count": 133,
     "metadata": {},
     "output_type": "execute_result"
    }
   ],
   "source": [
    "len(letters[~letters.isin(['a','e','i','o','u'])])"
   ]
  },
  {
   "cell_type": "markdown",
   "id": "36f3c4d8-6b3b-4be4-bd8f-00c8ca00bf5a",
   "metadata": {},
   "source": [
    "    Create a Series that has all of the same letters but uppercased."
   ]
  },
  {
   "cell_type": "code",
   "execution_count": 134,
   "id": "ce884bfa-53ce-47d2-9f1c-94d449651c12",
   "metadata": {},
   "outputs": [
    {
     "data": {
      "text/plain": [
       "0      H\n",
       "1      N\n",
       "2      V\n",
       "3      I\n",
       "4      D\n",
       "      ..\n",
       "195    R\n",
       "196    O\n",
       "197    G\n",
       "198    U\n",
       "199    Y\n",
       "Length: 200, dtype: object"
      ]
     },
     "execution_count": 134,
     "metadata": {},
     "output_type": "execute_result"
    }
   ],
   "source": [
    "letters.str.upper()"
   ]
  },
  {
   "cell_type": "markdown",
   "id": "a8b33a29-6902-4921-8a6c-3e2c969002f7",
   "metadata": {},
   "source": [
    "    Create a bar plot of the frequencies of the 6 most commonly occuring letters."
   ]
  },
  {
   "cell_type": "code",
   "execution_count": 141,
   "id": "a5fefc43-b59c-4e6d-9aa2-8f6c22d0977c",
   "metadata": {},
   "outputs": [
    {
     "data": {
      "text/plain": [
       "[Text(0.5, 0, 'letter')]"
      ]
     },
     "execution_count": 141,
     "metadata": {},
     "output_type": "execute_result"
    },
    {
     "data": {
      "image/png": "[encoded data removed]",
      "text/plain": [
       "<Figure size 432x288 with 1 Axes>"
      ]
     },
     "metadata": {
      "needs_background": "light"
     },
     "output_type": "display_data"
    }
   ],
   "source": [
    "# most commonly occuring letters:\n",
    "# inside a chained plot call for pandas:\n",
    "# the title can be set inside the type of plot call itself,\n",
    "# x and y labels can be set by chaining a .set() method call\n",
    "letters.value_counts().head(6).plot.bar(\n",
    "    title='most commonly occuring letters').set(\n",
    "    xlabel='letter')"
   ]
  },
  {
   "cell_type": "markdown",
   "id": "a3f82371-d851-4e19-bed4-4acf5fa6afb9",
   "metadata": {},
   "source": [
    "Use pandas to create a Series named numbers from the following list:"
   ]
  },
  {
   "cell_type": "code",
   "execution_count": 142,
   "id": "91601b73-c06b-46d3-b2dd-c1794f6b4e86",
   "metadata": {},
   "outputs": [],
   "source": [
    "numbers = ['$796,459.41', '$278.60', '$482,571.67', '$4,503,915.98', '$2,121,418.3', '$1,260,813.3', '$87,231.01', '$1,509,175.45', '$4,138,548.00', '$2,848,913.80', '$594,715.39', '$4,789,988.17', '$4,513,644.5', '$3,191,059.97', '$1,758,712.24', '$4,338,283.54', '$4,738,303.38', '$2,791,759.67', '$769,681.94', '$452,650.23']"
   ]
  },
  {
   "cell_type": "markdown",
   "id": "b65de443-1127-44d8-b73b-896db4023fa0",
   "metadata": {},
   "source": [
    "    What is the data type of the numbers Series?"
   ]
  },
  {
   "cell_type": "code",
   "execution_count": 144,
   "id": "b179213d-25ed-4746-85f3-3821e6d51ba7",
   "metadata": {},
   "outputs": [],
   "source": [
    "numbers = pd.Series(numbers)"
   ]
  },
  {
   "cell_type": "code",
   "execution_count": 145,
   "id": "bdeb6dbb-6cfd-463e-a4fb-b9db688e155f",
   "metadata": {},
   "outputs": [
    {
     "data": {
      "text/plain": [
       "dtype('O')"
      ]
     },
     "execution_count": 145,
     "metadata": {},
     "output_type": "execute_result"
    }
   ],
   "source": [
    "numbers.dtype"
   ]
  },
  {
   "cell_type": "markdown",
   "id": "41ef2ac4-69d3-4d5c-9459-aef0545b9535",
   "metadata": {},
   "source": [
    "    How many elements are in the number Series?"
   ]
  },
  {
   "cell_type": "code",
   "execution_count": 146,
   "id": "2a672e96-a00d-4ced-9ea7-d2ffe2c49caa",
   "metadata": {},
   "outputs": [
    {
     "data": {
      "text/plain": [
       "20"
      ]
     },
     "execution_count": 146,
     "metadata": {},
     "output_type": "execute_result"
    }
   ],
   "source": [
    "numbers.size"
   ]
  },
  {
   "cell_type": "code",
   "execution_count": 147,
   "id": "efd94647-b4bb-4607-9132-06d0e3cad296",
   "metadata": {},
   "outputs": [
    {
     "data": {
      "text/plain": [
       "20"
      ]
     },
     "execution_count": 147,
     "metadata": {},
     "output_type": "execute_result"
    }
   ],
   "source": [
    "len(numbers)"
   ]
  },
  {
   "cell_type": "code",
   "execution_count": 148,
   "id": "d744de92-4b07-416e-94b4-060455061b68",
   "metadata": {},
   "outputs": [
    {
     "data": {
      "text/plain": [
       "20"
      ]
     },
     "execution_count": 148,
     "metadata": {},
     "output_type": "execute_result"
    }
   ],
   "source": [
    "numbers.shape[0]"
   ]
  },
  {
   "cell_type": "markdown",
   "id": "aaac7d2f-e3ac-449d-8106-effa5c32d280",
   "metadata": {},
   "source": [
    "    Perform the necessary manipulations by accessing Series attributes and methods to convert the numbers Series to a numeric data type."
   ]
  },
  {
   "cell_type": "code",
   "execution_count": 154,
   "id": "e1355ba6-01e8-4a5a-88c4-b8e6f604a8de",
   "metadata": {},
   "outputs": [
    {
     "data": {
      "text/plain": [
       "796459.41"
      ]
     },
     "execution_count": 154,
     "metadata": {},
     "output_type": "execute_result"
    }
   ],
   "source": [
    "float(numbers[0].replace('$','').replace(',', ''))"
   ]
  },
  {
   "cell_type": "code",
   "execution_count": 160,
   "id": "8941262b-913c-4364-bad1-39f9a9faae2f",
   "metadata": {},
   "outputs": [],
   "source": [
    "# turn the numbers into numbers, but like, for actual\n",
    "numbers = numbers.str.replace(\n",
    "    '$','', regex=False).str.replace(\n",
    "    ',','', regex=False).astype(float)"
   ]
  },
  {
   "cell_type": "code",
   "execution_count": 161,
   "id": "429c708a-39fa-4771-9830-25e623dc2042",
   "metadata": {},
   "outputs": [
    {
     "data": {
      "text/plain": [
       "0      796459.41\n",
       "1         278.60\n",
       "2      482571.67\n",
       "3     4503915.98\n",
       "4     2121418.30\n",
       "5     1260813.30\n",
       "6       87231.01\n",
       "7     1509175.45\n",
       "8     4138548.00\n",
       "9     2848913.80\n",
       "10     594715.39\n",
       "11    4789988.17\n",
       "12    4513644.50\n",
       "13    3191059.97\n",
       "14    1758712.24\n",
       "15    4338283.54\n",
       "16    4738303.38\n",
       "17    2791759.67\n",
       "18     769681.94\n",
       "19     452650.23\n",
       "dtype: float64"
      ]
     },
     "execution_count": 161,
     "metadata": {},
     "output_type": "execute_result"
    }
   ],
   "source": [
    "numbers"
   ]
  },
  {
   "cell_type": "markdown",
   "id": "29739b94-1537-45f8-bdd2-bf41ec560cfd",
   "metadata": {},
   "source": [
    "    Run the code to discover the maximum value from the Series."
   ]
  },
  {
   "cell_type": "code",
   "execution_count": 162,
   "id": "24136faa-f36d-4412-a512-19ca8b4f7025",
   "metadata": {},
   "outputs": [
    {
     "data": {
      "text/plain": [
       "4789988.17"
      ]
     },
     "execution_count": 162,
     "metadata": {},
     "output_type": "execute_result"
    }
   ],
   "source": [
    "numbers.max()"
   ]
  },
  {
   "cell_type": "code",
   "execution_count": 168,
   "id": "51eae416-1511-4c61-a9e9-6531b9eba374",
   "metadata": {},
   "outputs": [
    {
     "data": {
      "text/plain": [
       "11    4789988.17\n",
       "dtype: float64"
      ]
     },
     "execution_count": 168,
     "metadata": {},
     "output_type": "execute_result"
    }
   ],
   "source": [
    "numbers.nlargest(1, keep='all')"
   ]
  },
  {
   "cell_type": "markdown",
   "id": "5f4d540c-323b-4e1b-9b2e-b2eefb0f9eca",
   "metadata": {},
   "source": [
    "    Run the code to discover the minimum value from the Series."
   ]
  },
  {
   "cell_type": "code",
   "execution_count": 163,
   "id": "9010106c-4276-4e6d-a0ad-562284c2f396",
   "metadata": {},
   "outputs": [
    {
     "data": {
      "text/plain": [
       "278.6"
      ]
     },
     "execution_count": 163,
     "metadata": {},
     "output_type": "execute_result"
    }
   ],
   "source": [
    "numbers.min()"
   ]
  },
  {
   "cell_type": "code",
   "execution_count": 164,
   "id": "44e6a7f0-2574-4209-9e20-1d7c42696226",
   "metadata": {},
   "outputs": [
    {
     "data": {
      "text/plain": [
       "1    278.6\n",
       "dtype: float64"
      ]
     },
     "execution_count": 164,
     "metadata": {},
     "output_type": "execute_result"
    }
   ],
   "source": [
    "numbers.nsmallest(1)"
   ]
  },
  {
   "cell_type": "markdown",
   "id": "233ea694-d2f0-4a65-971e-18d74d0a059c",
   "metadata": {},
   "source": [
    "    What is the range of the values in the Series?"
   ]
  },
  {
   "cell_type": "code",
   "execution_count": 170,
   "id": "7b8196b1-3ba5-4686-8a0d-ddb5af9262d7",
   "metadata": {},
   "outputs": [
    {
     "data": {
      "text/plain": [
       "4789709.57"
      ]
     },
     "execution_count": 170,
     "metadata": {},
     "output_type": "execute_result"
    }
   ],
   "source": [
    "numbers.max() - numbers.min()"
   ]
  },
  {
   "cell_type": "markdown",
   "id": "3d99dd98-9aa4-4da4-b449-0ebb7a38d383",
   "metadata": {},
   "source": [
    "    Bin the data into 4 equally sized intervals or bins and output how many values fall into each bin"
   ]
  },
  {
   "cell_type": "code",
   "execution_count": 171,
   "id": "845f5fad-2847-4bf5-aa1b-6554a25c9207",
   "metadata": {},
   "outputs": [
    {
     "data": {
      "text/plain": [
       "(-4511.111, 1197705.993]      7\n",
       "(3592560.778, 4789988.17]     6\n",
       "(1197705.993, 2395133.385]    4\n",
       "(2395133.385, 3592560.778]    3\n",
       "dtype: int64"
      ]
     },
     "execution_count": 171,
     "metadata": {},
     "output_type": "execute_result"
    }
   ],
   "source": [
    "numbers.value_counts(bins=4)"
   ]
  },
  {
   "cell_type": "code",
   "execution_count": null,
   "id": "1eeec044-edd5-40e8-91a8-de1879faa3e7",
   "metadata": {},
   "outputs": [],
   "source": []
  },
  {
   "cell_type": "code",
   "execution_count": 175,
   "id": "cdc2fa63-e79b-4820-9e09-8b95ed3e6e41",
   "metadata": {},
   "outputs": [
    {
     "data": {
      "text/plain": [
       "(-4511.11, 1197705.993]       7\n",
       "(3592560.778, 4789988.17]     6\n",
       "(1197705.993, 2395133.385]    4\n",
       "(2395133.385, 3592560.778]    3\n",
       "dtype: int64"
      ]
     },
     "execution_count": 175,
     "metadata": {},
     "output_type": "execute_result"
    }
   ],
   "source": [
    "pd.cut(numbers, 4).value_counts()"
   ]
  },
  {
   "cell_type": "markdown",
   "id": "16cda386-3ccc-4c54-8ba0-7c08cabbc380",
   "metadata": {},
   "source": [
    "    Plot the binned data in a meaningful way. Be sure to include a title and axis labels."
   ]
  },
  {
   "cell_type": "code",
   "execution_count": 177,
   "id": "962ae32a-2937-4d7b-b0eb-72ec8bffa793",
   "metadata": {},
   "outputs": [
    {
     "data": {
      "text/plain": [
       "[Text(0.5, 0, 'Count of Instances'), Text(0, 0.5, 'Value Bins in USD')]"
      ]
     },
     "execution_count": 177,
     "metadata": {},
     "output_type": "execute_result"
    },
    {
     "data": {
      "image/png": "[encoded data removed]",
      "text/plain": [
       "<Figure size 432x288 with 1 Axes>"
      ]
     },
     "metadata": {
      "needs_background": "light"
     },
     "output_type": "display_data"
    }
   ],
   "source": [
    "pd.cut(numbers, 4).value_counts().plot.barh(\n",
    "    title='Value counts of Numerical Bins').set(\n",
    "    xlabel='Count of Instances', ylabel='Value Bins in USD')"
   ]
  },
  {
   "cell_type": "markdown",
   "id": "d57a3751-e957-47e7-a5f7-6ce56f6e78fb",
   "metadata": {},
   "source": [
    "Use pandas to create a Series named exam_scores from the following list:"
   ]
  },
  {
   "cell_type": "code",
   "execution_count": 181,
   "id": "89515e13-42c0-4c32-8f8d-a3cfdad95b1d",
   "metadata": {},
   "outputs": [],
   "source": [
    "exam_scores = pd.Series(\n",
    "    [60, 86, 75, 62, 93, 71, 60, 83, 95, 78, 65, 72, 69, 81, 96, 80, 85, 92, 82, 78])"
   ]
  },
  {
   "cell_type": "markdown",
   "id": "a6761aec-8f39-4f26-b778-f00133a5a9a8",
   "metadata": {},
   "source": [
    "    How many elements are in the exam_scores Series?"
   ]
  },
  {
   "cell_type": "code",
   "execution_count": 182,
   "id": "ebe0a371-5deb-4025-9013-080f7014c67d",
   "metadata": {},
   "outputs": [
    {
     "data": {
      "text/plain": [
       "20"
      ]
     },
     "execution_count": 182,
     "metadata": {},
     "output_type": "execute_result"
    }
   ],
   "source": [
    "exam_scores.size"
   ]
  },
  {
   "cell_type": "markdown",
   "id": "22af4b51-8599-412a-9884-dfe9956e8fbf",
   "metadata": {},
   "source": [
    "    Run the code to discover the minimum, the maximum, the mean, and the median scores for the exam_scores Series."
   ]
  },
  {
   "cell_type": "code",
   "execution_count": 183,
   "id": "137b6421-0f13-4e38-8df8-ed3c263f3ee2",
   "metadata": {},
   "outputs": [
    {
     "data": {
      "text/plain": [
       "count    20.000000\n",
       "mean     78.150000\n",
       "std      11.352139\n",
       "min      60.000000\n",
       "25%      70.500000\n",
       "50%      79.000000\n",
       "75%      85.250000\n",
       "max      96.000000\n",
       "dtype: float64"
      ]
     },
     "execution_count": 183,
     "metadata": {},
     "output_type": "execute_result"
    }
   ],
   "source": [
    "exam_scores.describe()"
   ]
  },
  {
   "cell_type": "markdown",
   "id": "c8fbbabb-4763-4ceb-8487-09b73c02f4de",
   "metadata": {},
   "source": [
    "    Plot the Series in a meaningful way and make sure your chart has a title and axis labels."
   ]
  },
  {
   "cell_type": "code",
   "execution_count": 184,
   "id": "c01d5837-f365-440d-a4c5-e4e0418cb128",
   "metadata": {},
   "outputs": [
    {
     "data": {
      "text/plain": [
       "0     60\n",
       "1     86\n",
       "2     75\n",
       "3     62\n",
       "4     93\n",
       "5     71\n",
       "6     60\n",
       "7     83\n",
       "8     95\n",
       "9     78\n",
       "10    65\n",
       "11    72\n",
       "12    69\n",
       "13    81\n",
       "14    96\n",
       "15    80\n",
       "16    85\n",
       "17    92\n",
       "18    82\n",
       "19    78\n",
       "dtype: int64"
      ]
     },
     "execution_count": 184,
     "metadata": {},
     "output_type": "execute_result"
    }
   ],
   "source": [
    "exam_scores"
   ]
  },
  {
   "cell_type": "code",
   "execution_count": 188,
   "id": "cb47612a-cab6-45cd-b7c3-6d6d9ed1522b",
   "metadata": {},
   "outputs": [
    {
     "data": {
      "text/plain": [
       "[Text(0.5, 0, 'Grade Bins'), Text(0, 0.5, 'Student Count')]"
      ]
     },
     "execution_count": 188,
     "metadata": {},
     "output_type": "execute_result"
    },
    {
     "data": {
      "image/png": "[encoded data removed]",
      "text/plain": [
       "<Figure size 432x288 with 1 Axes>"
      ]
     },
     "metadata": {
      "needs_background": "light"
     },
     "output_type": "display_data"
    }
   ],
   "source": [
    "exam_scores.value_counts(\n",
    "    bins=6).plot.bar(\n",
    "    title='Grades by bracket').set(\n",
    "    xlabel='Grade Bins', ylabel='Student Count')"
   ]
  },
  {
   "cell_type": "code",
   "execution_count": 189,
   "id": "3b207c7a-15a3-42cb-aa85-eb4d9d2d2201",
   "metadata": {},
   "outputs": [
    {
     "data": {
      "text/plain": [
       "<AxesSubplot:title={'center':'Grade Distribution'}, ylabel='Frequency'>"
      ]
     },
     "execution_count": 189,
     "metadata": {},
     "output_type": "execute_result"
    },
    {
     "data": {
      "image/png": "[encoded data removed]",
      "text/plain": [
       "<Figure size 432x288 with 1 Axes>"
      ]
     },
     "metadata": {
      "needs_background": "light"
     },
     "output_type": "display_data"
    }
   ],
   "source": [
    "exam_scores.plot.hist(title='Grade Distribution')"
   ]
  },
  {
   "cell_type": "markdown",
   "id": "aa63b218-b373-45c3-ba06-ac7c9abfa965",
   "metadata": {},
   "source": [
    "    Write the code necessary to implement a curve for your exam_grades Series and save this as curved_grades. Add the necessary points to the highest grade to make it 100, and add the same number of points to every other score in the Series as well."
   ]
  },
  {
   "cell_type": "code",
   "execution_count": 193,
   "id": "55d3a6e3-d034-4aeb-8e9e-8c10e63b39c7",
   "metadata": {},
   "outputs": [],
   "source": [
    "# I want to bump the highest score to a 100\n",
    "# add that same value to the rest of the grades\n",
    "curved_grades = exam_scores + (100 - exam_scores.max())"
   ]
  },
  {
   "cell_type": "markdown",
   "id": "1591c3eb-32e9-41d7-8992-6fea8ee65264",
   "metadata": {},
   "source": [
    "    Use a method to convert each of the numeric values in the curved_grades Series into a categorical value of letter grades. For example, 86 should be a 'B' and 95 should be an 'A'. Save this as a Series named letter_grades."
   ]
  },
  {
   "cell_type": "code",
   "execution_count": 197,
   "id": "a12ec82b-e370-4615-824f-c70707070bc9",
   "metadata": {},
   "outputs": [],
   "source": [
    "letter_grades = pd.cut(\n",
    "    curved_grades, \n",
    "    bins=[0,70,80.5,90.5,100], \n",
    "    labels=['F','C','B','A'])"
   ]
  },
  {
   "cell_type": "markdown",
   "id": "6785abeb-bf40-4e07-b262-7f92e25a133a",
   "metadata": {},
   "source": [
    "    Plot your new categorical letter_grades Series in a meaninful way and include a title and axis labels."
   ]
  },
  {
   "cell_type": "code",
   "execution_count": 200,
   "id": "44cb958c-c278-44c3-b53c-c60d093ded3e",
   "metadata": {},
   "outputs": [
    {
     "data": {
      "text/plain": [
       "[Text(0.5, 0, 'Number of Students'), Text(0, 0.5, 'Letter Grade')]"
      ]
     },
     "execution_count": 200,
     "metadata": {},
     "output_type": "execute_result"
    },
    {
     "data": {
      "image/png": "[encoded data removed]",
      "text/plain": [
       "<Figure size 432x288 with 1 Axes>"
      ]
     },
     "metadata": {
      "needs_background": "light"
     },
     "output_type": "display_data"
    }
   ],
   "source": [
    "letter_grades.value_counts().plot.barh(title='Class Grades by Letter').set(xlabel='Number of Students',\n",
    "                                                                           ylabel='Letter Grade')"
   ]
  },
  {
   "cell_type": "code",
   "execution_count": 202,
   "id": "88529285-bf3f-4a63-8243-bfd64ff06580",
   "metadata": {},
   "outputs": [],
   "source": [
    "def letter_grade(some_num):\n",
    "    if some_num >= 90:\n",
    "        return 'A'\n",
    "    elif some_num >=80:\n",
    "        return 'B'\n",
    "    elif some_num >=70:\n",
    "        return 'C'\n",
    "    else:\n",
    "        return 'F'"
   ]
  },
  {
   "cell_type": "code",
   "execution_count": 204,
   "id": "1d8626d4-67a8-4e6c-92c5-3b18845d7eb4",
   "metadata": {},
   "outputs": [
    {
     "data": {
      "text/plain": [
       "'B'"
      ]
     },
     "execution_count": 204,
     "metadata": {},
     "output_type": "execute_result"
    }
   ],
   "source": [
    "letter_grade(80)"
   ]
  },
  {
   "cell_type": "code",
   "execution_count": 206,
   "id": "32e6a840-58aa-4c2e-8826-f281127e5a63",
   "metadata": {},
   "outputs": [
    {
     "data": {
      "text/plain": [
       "B    7\n",
       "A    5\n",
       "C    4\n",
       "F    4\n",
       "dtype: int64"
      ]
     },
     "execution_count": 206,
     "metadata": {},
     "output_type": "execute_result"
    }
   ],
   "source": [
    "curved_grades.apply(letter_grade).value_counts()"
   ]
  },
  {
   "cell_type": "code",
   "execution_count": null,
   "id": "aaf04910-bd90-4f2f-85c9-82431385bfe3",
   "metadata": {},
   "outputs": [],
   "source": []
  }
 ],
 "metadata": {
  "kernelspec": {
   "display_name": "Python 3",
   "language": "python",
   "name": "python3"
  },
  "language_info": {
   "codemirror_mode": {
    "name": "ipython",
    "version": 3
   },
   "file_extension": ".py",
   "mimetype": "text/x-python",
   "name": "python",
   "nbconvert_exporter": "python",
   "pygments_lexer": "ipython3",
   "version": "3.9.4"
  }
 },
 "nbformat": 4,
 "nbformat_minor": 5
}
