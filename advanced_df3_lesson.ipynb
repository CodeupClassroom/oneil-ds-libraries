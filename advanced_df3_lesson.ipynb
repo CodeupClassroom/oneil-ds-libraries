{
 "cells": [
  {
   "cell_type": "markdown",
   "id": "c64ba79b",
   "metadata": {},
   "source": [
    "# Advanced Dataframes"
   ]
  },
  {
   "cell_type": "markdown",
   "id": "85e19d31",
   "metadata": {},
   "source": [
    "## Part 3 - Reshaping\n",
    "- crosstab\n",
    "- pivot_table"
   ]
  },
  {
   "cell_type": "code",
   "execution_count": 1,
   "id": "18d808a6",
   "metadata": {},
   "outputs": [],
   "source": [
    "import pandas as pd\n",
    "import numpy as np\n",
    "\n",
    "np.random.seed(123)"
   ]
  },
  {
   "cell_type": "code",
   "execution_count": 2,
   "id": "bc5a992b",
   "metadata": {},
   "outputs": [
    {
     "data": {
      "text/html": [
       "<div>\n",
       "<style scoped>\n",
       "    .dataframe tbody tr th:only-of-type {\n",
       "        vertical-align: middle;\n",
       "    }\n",
       "\n",
       "    .dataframe tbody tr th {\n",
       "        vertical-align: top;\n",
       "    }\n",
       "\n",
       "    .dataframe thead th {\n",
       "        text-align: right;\n",
       "    }\n",
       "</style>\n",
       "<table border=\"1\" class=\"dataframe\">\n",
       "  <thead>\n",
       "    <tr style=\"text-align: right;\">\n",
       "      <th></th>\n",
       "      <th>name</th>\n",
       "      <th>math</th>\n",
       "      <th>reading</th>\n",
       "      <th>english</th>\n",
       "      <th>room</th>\n",
       "      <th>overall_grade</th>\n",
       "      <th>overall_letter</th>\n",
       "    </tr>\n",
       "  </thead>\n",
       "  <tbody>\n",
       "    <tr>\n",
       "      <th>0</th>\n",
       "      <td>Sally</td>\n",
       "      <td>62</td>\n",
       "      <td>80</td>\n",
       "      <td>85</td>\n",
       "      <td>A</td>\n",
       "      <td>75.7</td>\n",
       "      <td>C</td>\n",
       "    </tr>\n",
       "    <tr>\n",
       "      <th>1</th>\n",
       "      <td>Jane</td>\n",
       "      <td>88</td>\n",
       "      <td>67</td>\n",
       "      <td>79</td>\n",
       "      <td>B</td>\n",
       "      <td>78.0</td>\n",
       "      <td>C</td>\n",
       "    </tr>\n",
       "    <tr>\n",
       "      <th>2</th>\n",
       "      <td>Suzie</td>\n",
       "      <td>94</td>\n",
       "      <td>95</td>\n",
       "      <td>74</td>\n",
       "      <td>A</td>\n",
       "      <td>87.7</td>\n",
       "      <td>B</td>\n",
       "    </tr>\n",
       "    <tr>\n",
       "      <th>3</th>\n",
       "      <td>Billy</td>\n",
       "      <td>98</td>\n",
       "      <td>88</td>\n",
       "      <td>96</td>\n",
       "      <td>B</td>\n",
       "      <td>94.0</td>\n",
       "      <td>A</td>\n",
       "    </tr>\n",
       "    <tr>\n",
       "      <th>4</th>\n",
       "      <td>Ada</td>\n",
       "      <td>77</td>\n",
       "      <td>98</td>\n",
       "      <td>92</td>\n",
       "      <td>A</td>\n",
       "      <td>89.0</td>\n",
       "      <td>B</td>\n",
       "    </tr>\n",
       "    <tr>\n",
       "      <th>5</th>\n",
       "      <td>John</td>\n",
       "      <td>79</td>\n",
       "      <td>93</td>\n",
       "      <td>76</td>\n",
       "      <td>B</td>\n",
       "      <td>82.7</td>\n",
       "      <td>B</td>\n",
       "    </tr>\n",
       "    <tr>\n",
       "      <th>6</th>\n",
       "      <td>Thomas</td>\n",
       "      <td>82</td>\n",
       "      <td>81</td>\n",
       "      <td>64</td>\n",
       "      <td>A</td>\n",
       "      <td>75.7</td>\n",
       "      <td>C</td>\n",
       "    </tr>\n",
       "    <tr>\n",
       "      <th>7</th>\n",
       "      <td>Marie</td>\n",
       "      <td>93</td>\n",
       "      <td>90</td>\n",
       "      <td>63</td>\n",
       "      <td>A</td>\n",
       "      <td>82.0</td>\n",
       "      <td>B</td>\n",
       "    </tr>\n",
       "    <tr>\n",
       "      <th>8</th>\n",
       "      <td>Albert</td>\n",
       "      <td>92</td>\n",
       "      <td>87</td>\n",
       "      <td>62</td>\n",
       "      <td>A</td>\n",
       "      <td>80.3</td>\n",
       "      <td>B</td>\n",
       "    </tr>\n",
       "    <tr>\n",
       "      <th>9</th>\n",
       "      <td>Richard</td>\n",
       "      <td>69</td>\n",
       "      <td>94</td>\n",
       "      <td>80</td>\n",
       "      <td>A</td>\n",
       "      <td>81.0</td>\n",
       "      <td>B</td>\n",
       "    </tr>\n",
       "    <tr>\n",
       "      <th>10</th>\n",
       "      <td>Isaac</td>\n",
       "      <td>92</td>\n",
       "      <td>93</td>\n",
       "      <td>99</td>\n",
       "      <td>B</td>\n",
       "      <td>94.7</td>\n",
       "      <td>A</td>\n",
       "    </tr>\n",
       "    <tr>\n",
       "      <th>11</th>\n",
       "      <td>Alan</td>\n",
       "      <td>92</td>\n",
       "      <td>72</td>\n",
       "      <td>62</td>\n",
       "      <td>A</td>\n",
       "      <td>75.3</td>\n",
       "      <td>C</td>\n",
       "    </tr>\n",
       "  </tbody>\n",
       "</table>\n",
       "</div>"
      ],
      "text/plain": [
       "       name  math  reading  english room  overall_grade overall_letter\n",
       "0     Sally    62       80       85    A           75.7              C\n",
       "1      Jane    88       67       79    B           78.0              C\n",
       "2     Suzie    94       95       74    A           87.7              B\n",
       "3     Billy    98       88       96    B           94.0              A\n",
       "4       Ada    77       98       92    A           89.0              B\n",
       "5      John    79       93       76    B           82.7              B\n",
       "6    Thomas    82       81       64    A           75.7              C\n",
       "7     Marie    93       90       63    A           82.0              B\n",
       "8    Albert    92       87       62    A           80.3              B\n",
       "9   Richard    69       94       80    A           81.0              B\n",
       "10    Isaac    92       93       99    B           94.7              A\n",
       "11     Alan    92       72       62    A           75.3              C"
      ]
     },
     "execution_count": 2,
     "metadata": {},
     "output_type": "execute_result"
    }
   ],
   "source": [
    "# Create list of values for names column.\n",
    "students = ['Sally', 'Jane', 'Suzie', 'Billy', 'Ada', 'John', 'Thomas',\n",
    "            'Marie', 'Albert', 'Richard', 'Isaac', 'Alan']\n",
    "\n",
    "# Randomly generate arrays of scores for each student for each subject.\n",
    "# Note that all the values need to have the same length here.\n",
    "math_grades = np.random.randint(low=60, high=100, size=len(students))\n",
    "english_grades = np.random.randint(low=60, high=100, size=len(students))\n",
    "reading_grades = np.random.randint(low=60, high=100, size=len(students))\n",
    "\n",
    "# Randomly generate if a student is in classroom A or classroom B\n",
    "classroom = np.random.choice(['A', 'B'], len(students))\n",
    "\n",
    "df = pd.DataFrame({'name':students,\n",
    "                   'math':math_grades,\n",
    "                   'reading':reading_grades,\n",
    "                   'english':english_grades,\n",
    "                   'room':classroom})\n",
    "\n",
    "#calculated overall grade and letter\n",
    "df['overall_grade'] = df[['math','reading','english']].mean(axis=1).round(1)\n",
    "df['overall_letter'] = np.where(df.overall_grade >= 90, 'A', \n",
    "                                np.where(df.overall_grade >= 80, 'B','C'))\n",
    "\n",
    "df"
   ]
  },
  {
   "cell_type": "markdown",
   "id": "38102089",
   "metadata": {},
   "source": [
    "## Using `.crosstab`\n",
    "count the number of occurances between each subgroup\n",
    "- format: `pd.crosstab(index=_, column=_)`"
   ]
  },
  {
   "cell_type": "markdown",
   "id": "2e76f716",
   "metadata": {},
   "source": [
    "#### find all counts of the room and overall letter grade"
   ]
  },
  {
   "cell_type": "code",
   "execution_count": null,
   "id": "f89d01f3",
   "metadata": {},
   "outputs": [],
   "source": []
  },
  {
   "cell_type": "markdown",
   "id": "53760f5b",
   "metadata": {},
   "source": [
    "#### add total counts"
   ]
  },
  {
   "cell_type": "code",
   "execution_count": 5,
   "id": "f0a8d675",
   "metadata": {},
   "outputs": [],
   "source": [
    "#margins\n"
   ]
  },
  {
   "cell_type": "markdown",
   "id": "4958c78d",
   "metadata": {},
   "source": [
    "#### give percentages instead of counts"
   ]
  },
  {
   "cell_type": "code",
   "execution_count": 6,
   "id": "369634c8",
   "metadata": {},
   "outputs": [],
   "source": [
    "#normalize\n"
   ]
  },
  {
   "cell_type": "code",
   "execution_count": null,
   "id": "3e2063c5",
   "metadata": {},
   "outputs": [],
   "source": []
  },
  {
   "cell_type": "code",
   "execution_count": null,
   "id": "3ada6f60",
   "metadata": {},
   "outputs": [],
   "source": []
  },
  {
   "cell_type": "markdown",
   "id": "0133459d",
   "metadata": {},
   "source": [
    "### Using `.pivot_table`"
   ]
  },
  {
   "cell_type": "markdown",
   "id": "fa170601",
   "metadata": {},
   "source": [
    "creates a summary table similar to excel pivot table \n",
    "\n",
    "need to include 3 of the following:\n",
    "- which values will make up the rows (the index)\n",
    "- which values will make up the columns\n",
    "- the values we are aggregating\n",
    "- an aggregation method (aggfunc); if we can omit this, and mean will be used by default\n",
    "\n",
    "format: `pd.pivot_table(data=_, index=_, columns=_, values=_, aggfunc=_)`"
   ]
  },
  {
   "cell_type": "markdown",
   "id": "e0055dc9",
   "metadata": {},
   "source": [
    "#### show the average math grade by overall letter grade and room"
   ]
  },
  {
   "cell_type": "code",
   "execution_count": null,
   "id": "b8caa080",
   "metadata": {},
   "outputs": [],
   "source": []
  },
  {
   "cell_type": "markdown",
   "id": "e35813d9",
   "metadata": {},
   "source": [
    "#### show the MAX math grade by overall letter grade and room"
   ]
  },
  {
   "cell_type": "code",
   "execution_count": null,
   "id": "0efb7c46",
   "metadata": {},
   "outputs": [],
   "source": []
  },
  {
   "cell_type": "markdown",
   "id": "8e8c4b56",
   "metadata": {},
   "source": [
    "### Using `.map`"
   ]
  },
  {
   "cell_type": "markdown",
   "id": "4a5f85a7",
   "metadata": {},
   "source": [
    "Use a dictionary to assign new values based on current values\n",
    "\n",
    "- format: `.map({'old_value':'new_value'})`"
   ]
  },
  {
   "cell_type": "markdown",
   "id": "a2990360",
   "metadata": {},
   "source": [
    "#### create new df of restuarant data"
   ]
  },
  {
   "cell_type": "code",
   "execution_count": 8,
   "id": "451a7f31",
   "metadata": {},
   "outputs": [
    {
     "data": {
      "text/html": [
       "<div>\n",
       "<style scoped>\n",
       "    .dataframe tbody tr th:only-of-type {\n",
       "        vertical-align: middle;\n",
       "    }\n",
       "\n",
       "    .dataframe tbody tr th {\n",
       "        vertical-align: top;\n",
       "    }\n",
       "\n",
       "    .dataframe thead th {\n",
       "        text-align: right;\n",
       "    }\n",
       "</style>\n",
       "<table border=\"1\" class=\"dataframe\">\n",
       "  <thead>\n",
       "    <tr style=\"text-align: right;\">\n",
       "      <th></th>\n",
       "      <th>drink</th>\n",
       "      <th>meal</th>\n",
       "    </tr>\n",
       "  </thead>\n",
       "  <tbody>\n",
       "    <tr>\n",
       "      <th>11</th>\n",
       "      <td>Water</td>\n",
       "      <td>Yakisoba Noodle</td>\n",
       "    </tr>\n",
       "    <tr>\n",
       "      <th>17</th>\n",
       "      <td>Water</td>\n",
       "      <td>Pad Thai</td>\n",
       "    </tr>\n",
       "    <tr>\n",
       "      <th>30</th>\n",
       "      <td>Water</td>\n",
       "      <td>Curry</td>\n",
       "    </tr>\n",
       "    <tr>\n",
       "      <th>25</th>\n",
       "      <td>Tea</td>\n",
       "      <td>Pad Thai</td>\n",
       "    </tr>\n",
       "    <tr>\n",
       "      <th>29</th>\n",
       "      <td>Water</td>\n",
       "      <td>Pad Thai</td>\n",
       "    </tr>\n",
       "    <tr>\n",
       "      <th>34</th>\n",
       "      <td>Water</td>\n",
       "      <td>Curry</td>\n",
       "    </tr>\n",
       "    <tr>\n",
       "      <th>35</th>\n",
       "      <td>Tea</td>\n",
       "      <td>Yakisoba Noodle</td>\n",
       "    </tr>\n",
       "    <tr>\n",
       "      <th>12</th>\n",
       "      <td>Water</td>\n",
       "      <td>Curry</td>\n",
       "    </tr>\n",
       "    <tr>\n",
       "      <th>39</th>\n",
       "      <td>Tea</td>\n",
       "      <td>Pad Thai</td>\n",
       "    </tr>\n",
       "    <tr>\n",
       "      <th>33</th>\n",
       "      <td>Tea</td>\n",
       "      <td>Yakisoba Noodle</td>\n",
       "    </tr>\n",
       "  </tbody>\n",
       "</table>\n",
       "</div>"
      ],
      "text/plain": [
       "    drink             meal\n",
       "11  Water  Yakisoba Noodle\n",
       "17  Water         Pad Thai\n",
       "30  Water            Curry\n",
       "25    Tea         Pad Thai\n",
       "29  Water         Pad Thai\n",
       "34  Water            Curry\n",
       "35    Tea  Yakisoba Noodle\n",
       "12  Water            Curry\n",
       "39    Tea         Pad Thai\n",
       "33    Tea  Yakisoba Noodle"
      ]
     },
     "execution_count": 8,
     "metadata": {},
     "output_type": "execute_result"
    }
   ],
   "source": [
    "n = 40\n",
    "\n",
    "df = pd.DataFrame({\n",
    "    'drink': np.random.choice(['Tea', 'Water', 'Water'], n),\n",
    "    'meal': np.random.choice(['Curry', 'Yakisoba Noodle', 'Pad Thai'], n),\n",
    "})\n",
    "\n",
    "df.sample(10)"
   ]
  },
  {
   "cell_type": "markdown",
   "id": "58ac7f94",
   "metadata": {},
   "source": [
    "#### what are all unique drink values"
   ]
  },
  {
   "cell_type": "code",
   "execution_count": null,
   "id": "94b681b1",
   "metadata": {},
   "outputs": [],
   "source": []
  },
  {
   "cell_type": "markdown",
   "id": "fcb77cfe",
   "metadata": {},
   "source": [
    "#### what are all unique meal values"
   ]
  },
  {
   "cell_type": "code",
   "execution_count": null,
   "id": "1839734a",
   "metadata": {},
   "outputs": [],
   "source": []
  },
  {
   "cell_type": "markdown",
   "id": "25ee831c",
   "metadata": {},
   "source": [
    "#### create dictionary of prices for all current items"
   ]
  },
  {
   "cell_type": "code",
   "execution_count": 10,
   "id": "459f779f",
   "metadata": {},
   "outputs": [],
   "source": [
    "prices = {\n",
    "    'Yakisoba Noodle': 9,\n",
    "    'Curry': 11,\n",
    "    'Pad Thai': 10,\n",
    "    'Tea': 2,\n",
    "    'Water': 0,\n",
    "}"
   ]
  },
  {
   "cell_type": "markdown",
   "id": "bc866288",
   "metadata": {},
   "source": [
    "#### map drink prices and meal prices to create bill"
   ]
  },
  {
   "cell_type": "code",
   "execution_count": null,
   "id": "0b6b716a",
   "metadata": {},
   "outputs": [],
   "source": []
  },
  {
   "cell_type": "code",
   "execution_count": null,
   "id": "dfbefc9d",
   "metadata": {},
   "outputs": [],
   "source": []
  },
  {
   "cell_type": "markdown",
   "id": "5eeb2a21",
   "metadata": {},
   "source": [
    "#### how many orders of each combination of meal and drink?"
   ]
  },
  {
   "cell_type": "code",
   "execution_count": null,
   "id": "63b3c2cc",
   "metadata": {},
   "outputs": [],
   "source": []
  },
  {
   "cell_type": "code",
   "execution_count": null,
   "id": "57f85eb5",
   "metadata": {},
   "outputs": [],
   "source": []
  },
  {
   "cell_type": "markdown",
   "id": "e14fb7b3",
   "metadata": {},
   "source": [
    "#### what percentage of each?"
   ]
  },
  {
   "cell_type": "code",
   "execution_count": null,
   "id": "bb1e4409",
   "metadata": {},
   "outputs": [],
   "source": []
  },
  {
   "cell_type": "code",
   "execution_count": null,
   "id": "36328861",
   "metadata": {},
   "outputs": [],
   "source": []
  },
  {
   "cell_type": "markdown",
   "id": "556b043c",
   "metadata": {},
   "source": [
    "#### whats the average bill for each combination?"
   ]
  },
  {
   "cell_type": "code",
   "execution_count": null,
   "id": "15102668",
   "metadata": {},
   "outputs": [],
   "source": []
  },
  {
   "cell_type": "code",
   "execution_count": null,
   "id": "b2f19c12",
   "metadata": {},
   "outputs": [],
   "source": []
  },
  {
   "cell_type": "markdown",
   "id": "f3ccf51e",
   "metadata": {},
   "source": [
    "#### we can also get this by using a groupby"
   ]
  },
  {
   "cell_type": "code",
   "execution_count": null,
   "id": "17168b08",
   "metadata": {},
   "outputs": [],
   "source": []
  },
  {
   "cell_type": "code",
   "execution_count": null,
   "id": "f4f25f85",
   "metadata": {},
   "outputs": [],
   "source": []
  }
 ],
 "metadata": {
  "kernelspec": {
   "display_name": "Python 3 (ipykernel)",
   "language": "python",
   "name": "python3"
  },
  "language_info": {
   "codemirror_mode": {
    "name": "ipython",
    "version": 3
   },
   "file_extension": ".py",
   "mimetype": "text/x-python",
   "name": "python",
   "nbconvert_exporter": "python",
   "pygments_lexer": "ipython3",
   "version": "3.9.12"
  }
 },
 "nbformat": 4,
 "nbformat_minor": 5
}
